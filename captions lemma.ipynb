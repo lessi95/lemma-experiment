{
 "cells": [
  {
   "cell_type": "code",
   "execution_count": 23,
   "id": "8f11ad15",
   "metadata": {
    "scrolled": false
   },
   "outputs": [],
   "source": [
    "import nltk\n",
    "from youtube_transcript_api import YouTubeTranscriptApi\n",
    "\n",
    "def get_captions(youtube_video_id):\n",
    "    # Získání titulků z YouTube videa\n",
    "    try:\n",
    "        captions = YouTubeTranscriptApi.get_transcript(youtube_video_id)\n",
    "    except:\n",
    "        captions = [{'text': 'TranscriptsDisabled'}]\n",
    "    return captions\n",
    "\n",
    "def get_english_captions(captions):\n",
    "    # Získání anglických titulků\n",
    "    english_captions = [caption for caption in captions if 'language' in caption and caption['language'] == 'en']\n",
    "    if len(english_captions) == 0:\n",
    "        english_captions = [caption for caption in captions if 'language' in caption and caption['language'] == 'a.en']\n",
    "    if len(english_captions) == 0:\n",
    "        english_captions = [caption for caption in captions if 'language' in caption and caption['language'] == 'und']\n",
    "    return english_captions\n",
    "\n",
    "def captions_to_list(captions):\n",
    "    # Převod titulků na seznam\n",
    "    text_list = []\n",
    "    for caption in captions:\n",
    "        text_list.append(caption['text'])\n",
    "    return text_list\n",
    "\n",
    "def stem_text(text_list):\n",
    "    # Stemování seznamu pomocí NLTK\n",
    "    ps = nltk.PorterStemmer()\n",
    "    stemmed_list = []\n",
    "    for text in text_list:\n",
    "        words = nltk.word_tokenize(text)\n",
    "        stemmed_words = [ps.stem(word) for word in words]\n",
    "        stemmed_sentence = ' '.join(stemmed_words)\n",
    "        stemmed_list.append(stemmed_sentence)\n",
    "    return stemmed_list\n",
    "\n",
    "def save_files(youtube_video_id, captions, text_list, stemmed_list):\n",
    "    # Uložení titulků do souborů\n",
    "    english_captions = get_english_captions(captions)\n",
    "    with open(f\"{youtube_video_id}-captions-without-timestamps.txt\", \"w\", encoding=\"utf-8\") as file:\n",
    "        for line in english_captions:\n",
    "            file.write(line['text'] + \"\\n\")\n",
    "    with open(f\"{youtube_video_id}-captions-with-timestamps.txt\", \"w\", encoding=\"utf-8\") as file:\n",
    "        for line in captions:\n",
    "            file.write(str(line['start']) + \" \" + line['text'] + \"\\n\")\n",
    "    with open(f\"{youtube_video_id}-list.txt\", \"w\", encoding=\"utf-8\") as file:\n",
    "        file.write(str(text_list))\n",
    "    with open(f\"{youtube_video_id}-stemmed-list.txt\", \"w\", encoding=\"utf-8\") as file:\n",
    "        for line in stemmed_list:\n",
    "            file.write(line + \"\\n\")\n",
    "\n",
    "# Example usage\n",
    "youtube_video_id = \"U_n41RLJu_w\"\n",
    "captions = get_captions(youtube_video_id)\n",
    "text_list = captions_to_list(captions)\n",
    "stemmed_list = stem_text(text_list)\n",
    "save_files(youtube_video_id, captions, text_list, stemmed_list)"
   ]
  },
  {
   "cell_type": "code",
   "execution_count": null,
   "id": "84300a2e",
   "metadata": {},
   "outputs": [],
   "source": []
  }
 ],
 "metadata": {
  "kernelspec": {
   "display_name": "Python 3 (ipykernel)",
   "language": "python",
   "name": "python3"
  },
  "language_info": {
   "codemirror_mode": {
    "name": "ipython",
    "version": 3
   },
   "file_extension": ".py",
   "mimetype": "text/x-python",
   "name": "python",
   "nbconvert_exporter": "python",
   "pygments_lexer": "ipython3",
   "version": "3.11.2"
  }
 },
 "nbformat": 4,
 "nbformat_minor": 5
}
